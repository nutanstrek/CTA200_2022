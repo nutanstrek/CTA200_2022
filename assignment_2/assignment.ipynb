{
 "cells": [
  {
   "cell_type": "markdown",
   "metadata": {},
   "source": [
    "## PART 1"
   ]
  },
  {
   "cell_type": "code",
   "execution_count": 12,
   "metadata": {},
   "outputs": [],
   "source": [
    "def f(x):\n",
    "    \"\"\"Given a number x, return the value of the function f(x) = x^3 - x^2 - 1\n",
    "    \"\"\"\n",
    "    return x**3 - x**2 - 1.0\n",
    "\n",
    "def df(x):\n",
    "    \"\"\"The derivative of f(x) = x^3 - x^2 - 1 which turns out to be 3x^2 - 2x\n",
    "    \"\"\"\n",
    "    return 3*(x**2) - 2*x\n"
   ]
  },
  {
   "cell_type": "markdown",
   "metadata": {},
   "source": [
    "## PART 2"
   ]
  },
  {
   "cell_type": "code",
   "execution_count": 13,
   "metadata": {},
   "outputs": [],
   "source": [
    "def newton(f, df, x0, epsilon=1e-6, max_iter=30):\n",
    "    \"\"\"Function to find the root of a function using Newton's method.\n",
    "\n",
    "    Args:\n",
    "        f : Function to find the root of...\n",
    "        df : Derivation of the function to find the root of...\n",
    "        x0 : Initial guess...\n",
    "        epsilon : Threshold for root finding. Defaults to 1e-6.\n",
    "        max_iter : Maximum number of newton iterations to perform. Defaults to 30.\n",
    "\n",
    "    Returns:\n",
    "        float : The newtons root of the function f.\n",
    "    \"\"\"\n",
    "    x = x0\n",
    "    i = 0\n",
    "    while i < max_iter and abs(f(x)) > epsilon:\n",
    "        x -= f(x) / df(x)\n",
    "        i += 1\n",
    "    \n",
    "    if abs(f(x)) < epsilon:\n",
    "        print(f\"Found root in {i} iterations\")\n",
    "        return x\n",
    "    else:\n",
    "        print(\"Iteration Failed\")\n",
    "    "
   ]
  },
  {
   "cell_type": "markdown",
   "metadata": {},
   "source": [
    "## PART 3"
   ]
  },
  {
   "cell_type": "code",
   "execution_count": 21,
   "metadata": {},
   "outputs": [
    {
     "name": "stdout",
     "output_type": "stream",
     "text": [
      "Found root in 9 iterations\n"
     ]
    },
    {
     "data": {
      "text/plain": [
       "1.465571232470246"
      ]
     },
     "execution_count": 21,
     "metadata": {},
     "output_type": "execute_result"
    }
   ],
   "source": [
    "newton(f, df, 10)"
   ]
  },
  {
   "cell_type": "code",
   "execution_count": 26,
   "metadata": {},
   "outputs": [
    {
     "name": "stdout",
     "output_type": "stream",
     "text": [
      "Found root in 5 iterations\n"
     ]
    },
    {
     "data": {
      "text/plain": [
       "1.4655713749070918"
      ]
     },
     "execution_count": 26,
     "metadata": {},
     "output_type": "execute_result"
    }
   ],
   "source": [
    "newton(f, df, 1)"
   ]
  },
  {
   "cell_type": "code",
   "execution_count": 23,
   "metadata": {},
   "outputs": [
    {
     "name": "stdout",
     "output_type": "stream",
     "text": [
      "Found root in 9 iterations\n"
     ]
    },
    {
     "data": {
      "text/plain": [
       "1.465571232470246"
      ]
     },
     "execution_count": 23,
     "metadata": {},
     "output_type": "execute_result"
    }
   ],
   "source": [
    "newton(f, df, 10,epsilon=1e-8)"
   ]
  },
  {
   "cell_type": "code",
   "execution_count": 28,
   "metadata": {},
   "outputs": [
    {
     "name": "stdout",
     "output_type": "stream",
     "text": [
      "Found root in 6 iterations\n"
     ]
    },
    {
     "data": {
      "text/plain": [
       "1.4655712318767877"
      ]
     },
     "execution_count": 28,
     "metadata": {},
     "output_type": "execute_result"
    }
   ],
   "source": [
    "newton(f, df, 1,epsilon=1e-8)"
   ]
  },
  {
   "cell_type": "markdown",
   "metadata": {},
   "source": [
    "As can be seen above the root is found in less iterations if the guess is close to the actual value. And for lower value of epsilon the root is found in more iterations. For epsilon = 1e-8 at $x_0 = 1$, 1 extra iteration is required to find the root."
   ]
  }
 ],
 "metadata": {
  "interpreter": {
   "hash": "5ca16a19077279a26c29ab0bc7bcb5aaa5d663a49b51feb12c292f0a93f049f0"
  },
  "kernelspec": {
   "display_name": "Python 3.9.6 64-bit",
   "language": "python",
   "name": "python3"
  },
  "language_info": {
   "codemirror_mode": {
    "name": "ipython",
    "version": 3
   },
   "file_extension": ".py",
   "mimetype": "text/x-python",
   "name": "python",
   "nbconvert_exporter": "python",
   "pygments_lexer": "ipython3",
   "version": "3.9.6"
  },
  "orig_nbformat": 4
 },
 "nbformat": 4,
 "nbformat_minor": 2
}
