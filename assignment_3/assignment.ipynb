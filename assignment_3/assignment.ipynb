{
 "cells": [
  {
   "cell_type": "markdown",
   "metadata": {},
   "source": [
    "# Assignment 3"
   ]
  },
  {
   "cell_type": "markdown",
   "metadata": {},
   "source": [
    "## Question 1"
   ]
  },
  {
   "cell_type": "code",
   "execution_count": 2,
   "metadata": {},
   "outputs": [],
   "source": [
    "from matplotlib import pyplot as plt\n",
    "import numpy as np"
   ]
  },
  {
   "cell_type": "code",
   "execution_count": 3,
   "metadata": {},
   "outputs": [],
   "source": [
    "def check_if_its_bounded(c, iters):\n",
    "    z = 0\n",
    "    for _ in range(iters):\n",
    "        z = z**2 + c\n",
    "    if abs(z) > 2:\n",
    "        return False\n",
    "    else:\n",
    "        return True\n",
    "    \n",
    "def xy_to_pixel(x, y):\n",
    "    pass\n",
    "\n",
    "def make_mandelbrot_set(iters):\n",
    "    out = np.zeros((100, 100))\n",
    "    for x in range(-2, 2):\n",
    "        for y in range(-2, 2):\n",
    "            if check_if_its_bounded(complex(x, y), iters):\n",
    "                out.append((x, y))\n",
    "    "
   ]
  }
 ],
 "metadata": {
  "interpreter": {
   "hash": "3bd0123fd027483c47db031b67787295a94cf76ebd0927d657dc065872d7eb97"
  },
  "kernelspec": {
   "display_name": "Python 3.9.6 64-bit",
   "language": "python",
   "name": "python3"
  },
  "language_info": {
   "codemirror_mode": {
    "name": "ipython",
    "version": 3
   },
   "file_extension": ".py",
   "mimetype": "text/x-python",
   "name": "python",
   "nbconvert_exporter": "python",
   "pygments_lexer": "ipython3",
   "version": "3.9.6"
  },
  "orig_nbformat": 4
 },
 "nbformat": 4,
 "nbformat_minor": 2
}
